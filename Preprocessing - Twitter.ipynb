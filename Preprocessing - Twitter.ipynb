{
 "cells": [
  {
   "cell_type": "code",
   "execution_count": 1,
   "metadata": {},
   "outputs": [],
   "source": [
    "import nltk\n",
    "from nltk.tokenize import word_tokenize #import word_tokenize for tokenizing text into words \n",
    "from nltk.tokenize import sent_tokenize #import sent_tokenize for tokenizing paragraph into sentences\n",
    "from nltk.stem.porter import PorterStemmer #import Porter Stemmer Algorithm \n",
    "from nltk.stem import WordNetLemmatizer #import WordNet lemmatizer \n",
    "from nltk.corpus import stopwords #import stopwords\n",
    "from Sastrawi.Stemmer.StemmerFactory import StemmerFactory #import Indonesian Stemmer\n",
    "import re, string\n",
    "from nltk.tokenize import RegexpTokenizer\n",
    "import sys\n",
    "from Sastrawi.StopWordRemover.StopWordRemoverFactory import StopWordRemoverFactory"
   ]
  },
  {
   "cell_type": "code",
   "execution_count": 2,
   "metadata": {},
   "outputs": [],
   "source": [
    "# input file\n",
    "def input_text(file):\n",
    "    f = open(file,'r')\n",
    "    isifile = f.readlines()\n",
    "    isifile = ''.join(isifile)\n",
    "    return isifile\n",
    "\n",
    "# sentence tokenization\n",
    "def sentence_tokenization(s):\n",
    "    sentences_list = sent_tokenize(s)\n",
    "    sentences_list = \" \".join(sentences_list)\n",
    "    return sentences_list\n",
    "\n",
    "# sentence tokenization\n",
    "def sentence_tokenize(s):\n",
    "    sentences_list = sent_tokenize(s)\n",
    "    return sentences_list\n",
    "\n",
    "# word tokenization\n",
    "def word_tokenization(s):\n",
    "    token2 = word_tokenize(s)\n",
    "    return token2\n",
    "\n",
    "# stopword remover\n",
    "def stopword_re(s):\n",
    "    factory = StopWordRemoverFactory()\n",
    "    data = factory.get_stop_words()\n",
    "    stopword = factory.create_stop_word_remover()\n",
    "    text_stopword = stopword.remove(s)\n",
    "    return text_stopword\n",
    "    \n",
    "    for w in word_tokens: \n",
    "        if w not in stop_words: \n",
    "            filtered_sentence.append(w)\n",
    "    return filtered_sentence\n",
    "\n",
    "#remove number\n",
    "def removeNumber(str):\n",
    "    new_string =  re.sub(r\"[0-9]\", \"\", str)\n",
    "    return new_string\n",
    "\n",
    "#remove punctuation\n",
    "def removePunc(s):  # From S.Lott's solution\n",
    "    for c in string.punctuation:\n",
    "        s = s.replace(c,\" \")\n",
    "    return s\n",
    "\n",
    "#remove link\n",
    "def removeLink(str):\n",
    "    new_string = re.sub(r\"https?:\\/\\/.*\\..*\\/.*[\\r\\n]\", \"\", str)\n",
    "    new_string = re.sub(r\"https?\", \"\", new_string)\n",
    "    return new_string\n",
    "\n",
    "#remove non word\n",
    "def removeNonWord(str):\n",
    "    new_string =  re.sub(r\"[^A-Za-z\\s]\", \"\", str)\n",
    "    return new_string\n",
    "\n",
    "#remove space\n",
    "def removeSpace(str):\n",
    "    new_string =  re.sub(r\"\\s+\", \" \", str, flags=re.UNICODE)\n",
    "    return new_string"
   ]
  },
  {
   "cell_type": "code",
   "execution_count": 3,
   "metadata": {},
   "outputs": [
    {
     "name": "stdout",
     "output_type": "stream",
     "text": [
      "Siang langsung ditanyakan Kebidanan FK UB Terima kasih Jadwal Kegiatan Dies Natalis UB Catat tanggalnya semarakkan acaranya Coming soon Rangkaian Acara Dies Natalis Universitas Brawijaya RT UB IO Beasiswa AMINEF Untuk Pengajar Bahasa Inggris UB Deadline aplikasi tanggal April RT UB IO Beasiswa Training Studi Lanjut Belgia UB Official UBTV Brawijaya RT UB IT Periksa Soal cek jawaban kamu Untuk soal klik nomornya Tombol SELESAI klik semua soal dijawab amp nilai RT UB IT Tes kompetensi TI selama menit soal Excel P Point Word Soal tiap orang berbeda krn bank soal lebih RT UnileverIDN Prosesi penutupan Bulan Kesehatan Gigi Nasional FKG Univ Brawijaya BKGN Pepsodent UB Official TanyaPepsodent Selamat siang Untuk jadwal penerimaan mahasiswa S dilihat RT kempanrb bersama Korpri meneguhkan netralitas meningkatkan profesionalisme Aparatur Sipil Negara Selamat HUT KORPRI ke RT UB IO Sosialisasi Studi S Beasiswa Swedia hari Lt Rektorat UB Free entry kuota terbatas kursi RT UB IO Kesempatan terbaru studi S S luar negeri beasiswa Informasi lebih lengkap RT UB IO Don t forget British Winter Education Fair Today at Gedung Kebudayaan Mahasiswa UB RT UB IO Program Pertukaran Pelajar AMINEF D D S RT UB IO Fullbright Scholarship S S dibuka silahkan mengunjungi RT UB IO British Winter Education Fair Don t miss it Scholarships info and many more UB Official UBTV Brawijaya RT UB IO International Student Summit agenda tahunan DIKTI kompetisi mahasiswa asing lokal se Indonesia UB Official RT UB IO Sosialisasi International Student Summit and Competition by UNAIR Hari Kamis pukul di Lt Rektorat Free RT UB IT Pengumuman Jadwal Test Sertifikasi Kompetensi TI Gelombang RT UB IO Nuffic Neso DAAD menawarkan beasiswa pendidikan S hingga S summer course pelatihan RT UB IO Salah satu partner UB Ritsumeikan University membuka Short term Exchange Program Rektor selamat berbahagialah menjadi bagian mahasiswa baru UB Selamat belajar RajaBrawijaya Pusaka Pelepasan balon Rektor Dirjen Kemenristekdikti Dengan dibunyikannya gong resmi dimulainya pelaksanaan PKK Maba RajaBrawijaya Pusaka Rektor Universitas Brawijaya beserta jajaran undangan memasuki lapangan upacara RajaBrawijaya Pusaka Ayo Dukung INFO Pintu gerbang dibuka Selasa Agustus pukul WIB WIB WIB selesai RajaBrawijaya INFO Pintu Gerbang keluar dibuka Pintu Gerbang Pos Veteran Pintu Gerbang Pos BNI RajaBrawijaya INFO Penutupan dilaksanakan hari Selasa Agustus pukul WIB WIB RajaBrawijaya INFO Penutupan jalan masuk Pintu Gerbang Pos Veteran Pos BNI Pos Jl M Haryono Makam Pos KPRI RajaBrawijaya INFO Sehubungan akan diselenggarakannya PKK Maba RajaBrawijaya ini diberitahukan \n"
     ]
    }
   ],
   "source": [
    "def main():\n",
    "    teks = input_text('tweet-data.txt')\n",
    "    teks_token = sentence_tokenization(teks)\n",
    "    teks_reLink = removeLink(teks_token)\n",
    "    teks_rePunc = removePunc(teks_reLink)\n",
    "    teks_reNumber = removeNumber(teks_rePunc)\n",
    "    teks_reNonWord = removeNonWord(teks_reNumber)\n",
    "    teks_reSpace = removeSpace(teks_reNonWord)\n",
    "    teks_stopword = stopword_re(teks_reSpace)\n",
    "    print(teks_stopword)\n",
    "\n",
    "if __name__== \"__main__\":\n",
    "    main()"
   ]
  },
  {
   "cell_type": "code",
   "execution_count": null,
   "metadata": {},
   "outputs": [],
   "source": []
  }
 ],
 "metadata": {
  "kernelspec": {
   "display_name": "Python 3",
   "language": "python",
   "name": "python3"
  },
  "language_info": {
   "codemirror_mode": {
    "name": "ipython",
    "version": 3
   },
   "file_extension": ".py",
   "mimetype": "text/x-python",
   "name": "python",
   "nbconvert_exporter": "python",
   "pygments_lexer": "ipython3",
   "version": "3.6.5"
  }
 },
 "nbformat": 4,
 "nbformat_minor": 2
}
